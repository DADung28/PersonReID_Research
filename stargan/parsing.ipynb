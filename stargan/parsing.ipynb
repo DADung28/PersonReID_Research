{
 "cells": [
  {
   "cell_type": "code",
   "execution_count": 1,
   "metadata": {},
   "outputs": [
    {
     "name": "stderr",
     "output_type": "stream",
     "text": [
      "/home/jun/miniconda3/envs/py312/lib/python3.12/site-packages/tqdm/auto.py:21: TqdmWarning: IProgress not found. Please update jupyter and ipywidgets. See https://ipywidgets.readthedocs.io/en/stable/user_install.html\n",
      "  from .autonotebook import tqdm as notebook_tqdm\n"
     ]
    }
   ],
   "source": [
    "# -*- coding: utf-8 -*-\n",
    "import sys\n",
    "import torch\n",
    "from torch import nn, optim\n",
    "from torch.nn import init\n",
    "from torchvision import datasets, transforms \n",
    "from torchinfo import summary\n",
    "from torch.nn import functional as F\n",
    "import matplotlib.pyplot as plt\n",
    "import matplotlib\n",
    "import time \n",
    "import os\n",
    "import random\n",
    "import tqdm.auto as tqdm\n",
    "import models.pspnet as pspnet\n",
    "import timm\n",
    "from pathlib import Path\n",
    "from PIL import Image\n",
    "import numpy as np\n",
    "from tqdm.auto import tqdm\n",
    "proxy = 'http://10.0.0.107:3128'\n",
    "os.environ['http_proxy'] = proxy \n",
    "os.environ['HTTP_PROXY'] = proxy\n",
    "os.environ['https_proxy'] = proxy\n",
    "os.environ['HTTPS_PROXY'] = proxy"
   ]
  },
  {
   "cell_type": "code",
   "execution_count": 2,
   "metadata": {},
   "outputs": [],
   "source": [
    "if torch.cuda.is_available():\n",
    "    device = 'cuda'\n",
    "elif torch.backends.mps.is_available():\n",
    "    device = 'mps'\n",
    "else:\n",
    "    device = 'cpu'\n",
    "#device = 'cpu'"
   ]
  },
  {
   "cell_type": "code",
   "execution_count": 10,
   "metadata": {},
   "outputs": [
    {
     "name": "stderr",
     "output_type": "stream",
     "text": [
      "/home/jun/miniconda3/envs/py312/lib/python3.12/site-packages/torchvision/models/_utils.py:208: UserWarning: The parameter 'pretrained' is deprecated since 0.13 and may be removed in the future, please use 'weights' instead.\n",
      "  warnings.warn(\n",
      "/home/jun/miniconda3/envs/py312/lib/python3.12/site-packages/torchvision/models/_utils.py:223: UserWarning: Arguments other than a weight enum or `None` for 'weights' are deprecated since 0.13 and may be removed in the future. The current behavior is equivalent to passing `weights=DenseNet121_Weights.IMAGENET1K_V1`. You can also use `weights=DenseNet121_Weights.DEFAULT` to get the most up-to-date weights.\n",
      "  warnings.warn(msg)\n"
     ]
    }
   ],
   "source": [
    "S = pspnet.PSPNet(sizes=(1, 2, 3, 6), psp_size=1024, n_classes = 2, deep_features_size=512)\n",
    "S.load_state_dict(torch.load('/home/jun/pretrained_models/binary_parsing.pth'))\n",
    "S = S.to(device)"
   ]
  },
  {
   "cell_type": "code",
   "execution_count": 6,
   "metadata": {},
   "outputs": [],
   "source": [
    "# Function to convert tensor to image for displaying\n",
    "def tensor_to_image(tensor):\n",
    "    tensor = tensor.clone().detach().cpu()  # Clone the tensor to avoid modifying the original and move to CPU\n",
    "    tensor = F.interpolate(tensor, size=[256,128], mode='bilinear', align_corners=False)\n",
    "    tensor = tensor.squeeze(0)  # Remove batch dimension\n",
    "    tensor = tensor * torch.tensor([0.5, 0.5, 0.5]).view(3, 1, 1) + torch.tensor([0.5, 0.5, 0.5]).view(3, 1, 1)  # De-normalize\n",
    "    tensor = tensor.permute(1, 2, 0)  # Change from CxHxW to HxWxC\n",
    "    tensor = tensor.numpy()  # Convert to numpy array\n",
    "    tensor = (tensor * 255).astype(np.uint8)  # Convert to uint8\n",
    "    return tensor \n",
    "\n",
    "crop_size_w = 256\n",
    "crop_size_h = 256\n",
    "\n",
    "transform = transforms.Compose([\n",
    "    transforms.Resize((crop_size_h, crop_size_w), Image.BICUBIC),\n",
    "    transforms.ToTensor(),\n",
    "    transforms.Normalize(mean=[0.5, 0.5, 0.5], std=[0.5, 0.5, 0.5])\n",
    "])"
   ]
  },
  {
   "cell_type": "code",
   "execution_count": 15,
   "metadata": {},
   "outputs": [],
   "source": [
    "image_path = '/home/jun/ReID_Dataset/Market-1501-v15.09.15-stargan-1_2/Market-1501-v15.09.15-stargan-allcam/bounding_box_train/0002_c1s1_000551_01.jpg'\n",
    "image = Image.open(image_path).convert('RGB')  # Ensure image is in RGB mode\n",
    "# Apply the transformations\n",
    "transformed_image = transform(image).to(device)\n",
    "transformed_image = transformed_image.unsqueeze(0)"
   ]
  },
  {
   "cell_type": "code",
   "execution_count": 8,
   "metadata": {},
   "outputs": [
    {
     "data": {
      "image/jpeg": "[encoded data removed]",
      "image/png": "[encoded data removed]",
      "text/plain": [
       "<PIL.Image.Image image mode=RGB size=64x128>"
      ]
     },
     "execution_count": 8,
     "metadata": {},
     "output_type": "execute_result"
    }
   ],
   "source": [
    "image"
   ]
  },
  {
   "cell_type": "code",
   "execution_count": 34,
   "metadata": {},
   "outputs": [],
   "source": [
    "segmap,_ = S(transformed_image)\n",
    "segmap = torch.argmax(segmap, dim = 1)"
   ]
  },
  {
   "cell_type": "code",
   "execution_count": 89,
   "metadata": {},
   "outputs": [],
   "source": [
    "def tensor_to_pil(tensor):\n",
    "    \"\"\"\n",
    "    Convert a normalized tensor to a PIL image.\n",
    "    :param tensor: Normalized tensor (C, H, W).\n",
    "    :return: PIL image.\n",
    "    \"\"\"\n",
    "    tensor = tensor.squeeze(0)  # Remove batch dimension if exists\n",
    "    tensor = tensor.permute(1, 2, 0).detach().cpu().numpy()\n",
    "    tensor = (tensor * 0.5 + 0.5) * 255  # Assuming tensor was normalized to [-1, 1]\n",
    "    tensor = tensor.astype(np.uint8)\n",
    "    return Image.fromarray(tensor)\n",
    "\n",
    "def tensor_to_pil(tensor):\n",
    "    \"\"\"\n",
    "    Convert a normalized tensor to a PIL image, ensuring zero pixels remain zero.\n",
    "    :param tensor: Normalized tensor (C, H, W).\n",
    "    :return: PIL image.\n",
    "    \"\"\"\n",
    "    tensor = tensor.squeeze(0)  # Remove batch dimension if exists\n",
    "    tensor = tensor.permute(1, 2, 0).detach().cpu().numpy()\n",
    "    \n",
    "    # Denormalize: handle zero pixels separately\n",
    "    denormalized = np.where(tensor == 0, 0, (tensor * 0.5 + 0.5) * 255)\n",
    "    \n",
    "    denormalized = denormalized.astype(np.uint8)\n",
    "    return Image.fromarray(denormalized)\n",
    "\n",
    "color_palette = [\n",
    "    (0, 0, 0),        # Class 0: Black\n",
    "    (255, 255, 255),      # Class 1: Red\n",
    "    (0, 255, 0),      # Class 2: Green\n",
    "    (0, 0, 255),      # Class 3: Blue\n",
    "    (255, 255, 0),    # Class 4: Yellow\n",
    "    (255, 0, 255)     # Class 5: Magenta\n",
    "]\n",
    "\n",
    "def apply_color_map(segmap, palette):\n",
    "    \"\"\"\n",
    "    Apply a color map to a segmentation map.\n",
    "    :param segmap: Segmentation map (H, W) with class indices.\n",
    "    :param palette: Color palette as a list of RGB tuples.\n",
    "    :return: Color-mapped image (H, W, 3).\n",
    "    \"\"\"\n",
    "    h, w = segmap.shape\n",
    "    color_image = np.zeros((h, w, 3), dtype=np.uint8)\n",
    "    for class_idx, color in enumerate(palette):\n",
    "        color_image[segmap == class_idx] = color\n",
    "    return color_image\n",
    "\n",
    "def visulize_mask(model, image_path, save_dir):\n",
    "    target_size = (128, 256)\n",
    "    image_path = image_path\n",
    "    image_name = image_path.split('/')[-1]\n",
    "    image = Image.open(image_path).convert('RGB')  # Ensure image is in RGB mode\n",
    "    # Apply the transformations\n",
    "    transformed_image = transform(image).to(device)\n",
    "    transformed_image = transformed_image.unsqueeze(0)\n",
    "    segmap,_ = model(transformed_image)\n",
    "    segmap = torch.argmax(segmap, dim = 1)\n",
    "    # Ensure the mask is broadcasted across the color channels\n",
    "    mask_tensor = segmap.unsqueeze(1)  # Convert to shape (1, 1, 256, 256)\n",
    "    mask_tensor = mask_tensor.repeat(1, 3, 1, 1)  # Convert to shape (1, 3, 256, 256)\n",
    "  \n",
    "    # Apply the mask to the image\n",
    "    foreground_image = transformed_image * mask_tensor\n",
    "    foreground_image = tensor_to_pil(foreground_image).resize(target_size)\n",
    "    a_real_np = segmap.detach().cpu().numpy()\n",
    "    a_real_color = apply_color_map(a_real_np[0], color_palette)\n",
    "    a_real_seg_img = Image.fromarray(a_real_color)\n",
    "    \n",
    "    a_real_seg_img = a_real_seg_img.resize(target_size)\n",
    "    image.save(save_dir + f'/{image_name}') \n",
    "    a_real_seg_img.save(save_dir + f'/mask_{image_name}')\n",
    "    foreground_image.save(save_dir + f'/foreground_{image_name}')\n",
    "    return foreground_image\n"
   ]
  },
  {
   "cell_type": "code",
   "execution_count": 98,
   "metadata": {},
   "outputs": [
    {
     "data": {
      "image/jpeg": "[encoded data removed]",
      "image/png": "[encoded data removed]",
      "text/plain": [
       "<PIL.Image.Image image mode=RGB size=128x256>"
      ]
     },
     "execution_count": 98,
     "metadata": {},
     "output_type": "execute_result"
    }
   ],
   "source": [
    "mask = visulize_mask(S,'/home/jun/ReID_Dataset/Market-1501-v15.09.15-stargan-1_2/Market-1501-v15.09.15-stargan-allcam/bounding_box_train/0002_c1s1_000551_01.jpg', '/home/jun/sample_image_for_SOICT2024')\n",
    "mask"
   ]
  },
  {
   "cell_type": "code",
   "execution_count": null,
   "metadata": {},
   "outputs": [],
   "source": [
    "def tensor_to_pil(tensor):\n",
    "    \"\"\"\n",
    "    Convert a normalized tensor to a PIL image.\n",
    "    :param tensor: Normalized tensor (C, H, W).\n",
    "    :return: PIL image.\n",
    "    \"\"\"\n",
    "    tensor = tensor.squeeze(0)  # Remove batch dimension if exists\n",
    "    tensor = tensor.permute(1, 2, 0).detach().cpu().numpy()\n",
    "    tensor = (tensor * 0.5 + 0.5) * 255  # Assuming tensor was normalized to [-1, 1]\n",
    "    tensor = tensor.astype(np.uint8)\n",
    "    return Image.fromarray(tensor)\n",
    "\n",
    "def save_segmentation_maps(a_real_img, b_fake_img, \n",
    "                           a_real_segmap, b_fake_segmap, \n",
    "                           save_dir, epoch, i):\n",
    "    # Ensure the segmentation maps are on the CPU and convert them to NumPy arrays\n",
    "    a_real_np = a_real_segmap.detach().cpu().numpy()\n",
    "    b_fake_np = b_fake_segmap.detach().cpu().numpy()\n",
    "\n",
    "    # Apply color mapping to the segmentation maps\n",
    "    a_real_color = apply_color_map(a_real_np[0], color_palette)\n",
    "    b_fake_color = apply_color_map(b_fake_np[0], color_palette)\n",
    "\n",
    "    # Convert the color-mapped arrays to PIL images\n",
    "    a_real_seg_img = Image.fromarray(a_real_color)\n",
    "    b_fake_seg_img = Image.fromarray(b_fake_color)\n",
    "\n",
    "    # Denormalize and convert original images to PIL images\n",
    "    mean = [0.5] * 3\n",
    "    std = [0.5] * 3\n",
    "    #a_real_pil_img = Image.fromarray((denormalize(a_real_img.squeeze(0).detach().cpu().clone(), mean, std).numpy().transpose(1, 2, 0) * 255).astype(np.uint8))\n",
    "    #b_fake_pil_img = Image.fromarray((denormalize(b_fake_img.squeeze(0).detach().cpu().clone(), mean, std).numpy().transpose(1, 2, 0) * 255).astype(np.uint8))\n",
    "    a_real_pil_img = tensor_to_pil(a_real_img)\n",
    "    b_fake_pil_img = tensor_to_pil(b_fake_img)\n",
    "   \n",
    "    \n",
    "    target_size = (128, 256)\n",
    "    a_real_seg_img = a_real_seg_img.resize(target_size)\n",
    "    b_fake_seg_img = b_fake_seg_img.resize(target_size)\n",
    "    a_real_pil_img = a_real_pil_img.resize(target_size)\n",
    "    b_fake_pil_img = b_fake_pil_img.resize(target_size)\n",
    "    \n",
    "    # Combine original images with their corresponding segmentation maps vertically\n",
    "    a_real_combined = Image.new('RGB', (a_real_pil_img.width, a_real_pil_img.height + a_real_seg_img.height))\n",
    "    b_fake_combined = Image.new('RGB', (b_fake_pil_img.width, b_fake_pil_img.height + b_fake_seg_img.height))\n",
    "\n",
    "    \n",
    "    a_real_combined.paste(a_real_pil_img, (0, 0))\n",
    "    a_real_combined.paste(a_real_seg_img, (0, a_real_pil_img.height))\n",
    "    b_fake_combined.paste(b_fake_pil_img, (0, 0))\n",
    "    b_fake_combined.paste(b_fake_seg_img, (0, b_fake_pil_img.height))\n",
    "\n",
    "    # Merge combined images horizontally\n",
    "    merged_width = a_real_combined.width + b_fake_combined.width \n",
    "    merged_image = Image.new('RGB', (merged_width, a_real_combined.height))\n",
    "    merged_image.paste(a_real_combined, (0, 0))\n",
    "    merged_image.paste(b_fake_combined, (a_real_combined.width, 0))\n",
    "   \n",
    "    # Create the file name\n",
    "    file_name = '%s/Epoch_(%d)_segmap_(%d).jpg' % (save_dir, epoch, i + 1)\n",
    "    \n",
    "    # Save the image\n",
    "    merged_image.save(file_name)"
   ]
  },
  {
   "cell_type": "code",
   "execution_count": 8,
   "metadata": {},
   "outputs": [],
   "source": [
    "def segmentation_augmentation(img_path, model):\n",
    "        \n",
    "    transform = transforms.Compose([\n",
    "            transforms.Resize(size=(224, 224),interpolation=3), #Image.BICUBIC\n",
    "            transforms.ToTensor(),\n",
    "            transforms.Normalize([0.485, 0.456, 0.406], [0.229, 0.224, 0.225])])\n",
    "    \n",
    "    output = {}\n",
    "\n",
    "    original = Image.open(img_path)\n",
    "    w = original.size[0] \n",
    "    h = original.size[1]\n",
    "    resize = transforms.Resize((h, w), interpolation=3)\n",
    "    original_name = img_path.name\n",
    "    output[img_path] = original\n",
    "    \n",
    "    # Transform image for model input\n",
    "    img = transform(original).unsqueeze(0)\n",
    "    img = img.to(next(model.parameters()).device)\n",
    "    \n",
    "    pred = model(img)\n",
    "    if len(pred) == 2:\n",
    "        pred,_ = pred \n",
    "    original = np.array(original)\n",
    "    #output[original_name] = Image.fromarray(img.astype(np.uint8))\n",
    "    pred = resize(pred) \n",
    "    pred = pred.squeeze(dim=0)        \n",
    "    pred = pred.cpu().detach().numpy().transpose(1, 2, 0)\n",
    "    pred = np.asarray(np.argmax(pred, axis=2), dtype=np.uint8)\n",
    "    output[None] = Image.fromarray(pred) \n",
    "       \n",
    "    replace_dict = {0:'foreground', 1:'nohead', 2:'nobody', 3:'noarms', 4:'nolegs', 5:'nofeets'}\n",
    "    for id, name in replace_dict.items():\n",
    "        new_img = original.copy()\n",
    "        new_img[pred == id] = [0.4914, 0.4822, 0.4465]\n",
    "        new_img_name = original_name.replace(original_name.split('.')[0].split('_')[2],original_name.split('.')[0].split('_')[2] + name) \n",
    "        new_img_path = img_path.parent / new_img_name \n",
    "        output[new_img_path] = Image.fromarray(new_img.astype(np.uint8))\n",
    " \n",
    "    return output"
   ]
  },
  {
   "cell_type": "markdown",
   "metadata": {},
   "source": []
  }
 ],
 "metadata": {
  "kernelspec": {
   "display_name": "py311",
   "language": "python",
   "name": "python3"
  },
  "language_info": {
   "codemirror_mode": {
    "name": "ipython",
    "version": 3
   },
   "file_extension": ".py",
   "mimetype": "text/x-python",
   "name": "python",
   "nbconvert_exporter": "python",
   "pygments_lexer": "ipython3",
   "version": "3.12.2"
  }
 },
 "nbformat": 4,
 "nbformat_minor": 2
}
